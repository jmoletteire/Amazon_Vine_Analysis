{
 "nbformat": 4,
 "nbformat_minor": 0,
 "metadata": {
  "colab": {
   "provenance": [],
   "collapsed_sections": []
  },
  "kernelspec": {
   "name": "python3",
   "display_name": "Python 3"
  },
  "language_info": {
   "name": "python"
  }
 },
 "cells": [
  {
   "cell_type": "markdown",
   "source": [
    "# Deliverable 2"
   ],
   "metadata": {
    "id": "MVb5viNN58vB",
    "pycharm": {
     "name": "#%% md\n"
    }
   }
  },
  {
   "cell_type": "markdown",
   "source": [
    "1. Filter the data and create a new DataFrame or table to retrieve all the rows where the total_votes count is equal to or greater than 20 to pick reviews that are more likely to be helpful and to avoid having division by zero errors later on."
   ],
   "metadata": {
    "id": "yhiR-G_T56cA",
    "pycharm": {
     "name": "#%% md\n"
    }
   }
  },
  {
   "cell_type": "code",
   "metadata": {
    "id": "Exuo6ebUsCqW",
    "colab": {
     "base_uri": "https://localhost:8080/",
     "height": 346
    },
    "outputId": "400eb960-93f9-4cfc-e7d8-586a0b45bd6a",
    "pycharm": {
     "name": "#%%\n"
    }
   },
   "source": [
    "# Create new, filtered DataFrame\n",
    "import pandas as pd\n",
    "vine_df = pd.read_csv(\"./Resources/vine_table.csv\")\n",
    "bias_df = vine_df[vine_df[\"total_votes\"] >= 20]"
   ],
   "execution_count": 1,
   "outputs": []
  },
  {
   "cell_type": "markdown",
   "source": [
    "2. Filter the new DataFrame or table created in Step 1 and create a new DataFrame or table to retrieve all the rows where the number of helpful_votes divided by total_votes is equal to or greater than 50%."
   ],
   "metadata": {
    "id": "iaNUjYae6caa",
    "pycharm": {
     "name": "#%% md\n"
    }
   }
  },
  {
   "cell_type": "code",
   "source": [
    "# Filter the DataFrame\n",
    "bias_df = bias_df[(bias_df[\"helpful_votes\"] / bias_df[\"total_votes\"]) >= 0.5]"
   ],
   "metadata": {
    "id": "3jFWM42M6EF2",
    "pycharm": {
     "name": "#%%\n"
    }
   },
   "execution_count": 2,
   "outputs": []
  },
  {
   "cell_type": "markdown",
   "source": [
    "3. Filter the DataFrame or table created in Step 2, and create a new DataFrame or table that retrieves all the rows where a review was written as part of the Vine program (paid), vine == 'Y'."
   ],
   "metadata": {
    "id": "9G7t4Z0W6wga",
    "pycharm": {
     "name": "#%% md\n"
    }
   }
  },
  {
   "cell_type": "code",
   "source": [
    "# Vine (paid) reviews\n",
    "paid_df = bias_df[bias_df[\"vine\"] == 'Y']"
   ],
   "metadata": {
    "id": "dUMIPiln6X5p",
    "pycharm": {
     "name": "#%%\n"
    }
   },
   "execution_count": 3,
   "outputs": []
  },
  {
   "cell_type": "markdown",
   "source": [
    "4. Repeat Step 3, but this time retrieve all the rows where the review was not part of the Vine program (unpaid), vine == 'N'."
   ],
   "metadata": {
    "id": "DmA1y-Wc7QbW",
    "pycharm": {
     "name": "#%% md\n"
    }
   }
  },
  {
   "cell_type": "code",
   "source": [
    "# Unpaid Reviews\n",
    "unpaid_df = bias_df[bias_df[\"vine\"] == 'N']"
   ],
   "metadata": {
    "id": "mFDhswEk7C_L",
    "pycharm": {
     "name": "#%%\n"
    }
   },
   "execution_count": 4,
   "outputs": []
  },
  {
   "cell_type": "markdown",
   "source": [
    "5. Determine the total number of reviews, the number of 5-star reviews, and the percentage of 5-star reviews for the two types of review (paid vs unpaid)."
   ],
   "metadata": {
    "id": "0T0nPy3b7auZ",
    "pycharm": {
     "name": "#%% md\n"
    }
   }
  },
  {
   "cell_type": "code",
   "source": [
    "# Perform calculations\n",
    "total_reviews = bias_df.groupby(\"vine\").count()[\"review_id\"]\n",
    "five_stars = bias_df.groupby(\"vine\")[\"star_rating\"].apply(lambda x: (x == 5.0).sum())\n",
    "perc_five_stars = five_stars / total_reviews * 100\n",
    "\n",
    "# Create results dataframe\n",
    "results_df = pd.DataFrame({\n",
    "    \"Total Reviews\": total_reviews.map(\"{:,}\".format),\n",
    "    \"5-Star Reviews\": five_stars.map(\"{:,}\".format),\n",
    "    \"% 5-Star\": perc_five_stars.map(\"{:.1f}%\".format)\n",
    "})\n",
    "\n",
    "# Format index and print DF\n",
    "results_df.index.name = \"Paid/Unpaid\"\n",
    "results_df.rename(index={'N': \"Unpaid\", 'Y': \"Paid\"}, inplace=True)\n",
    "results_df = results_df.reindex(['Paid','Unpaid'])\n",
    "results_df"
   ],
   "metadata": {
    "colab": {
     "base_uri": "https://localhost:8080/",
     "height": 204
    },
    "id": "JqpqvtPU7Py0",
    "outputId": "0d4c5705-b777-4c89-e474-4ca006e4dee8",
    "pycharm": {
     "name": "#%%\n"
    }
   },
   "execution_count": 32,
   "outputs": [
    {
     "data": {
      "text/plain": "            Total Reviews 5-Star Reviews % 5-Star\nPaid/Unpaid                                      \nPaid                  334            139    41.6%\nUnpaid             61,614         32,665    53.0%",
      "text/html": "<div>\n<style scoped>\n    .dataframe tbody tr th:only-of-type {\n        vertical-align: middle;\n    }\n\n    .dataframe tbody tr th {\n        vertical-align: top;\n    }\n\n    .dataframe thead th {\n        text-align: right;\n    }\n</style>\n<table border=\"1\" class=\"dataframe\">\n  <thead>\n    <tr style=\"text-align: right;\">\n      <th></th>\n      <th>Total Reviews</th>\n      <th>5-Star Reviews</th>\n      <th>% 5-Star</th>\n    </tr>\n    <tr>\n      <th>Paid/Unpaid</th>\n      <th></th>\n      <th></th>\n      <th></th>\n    </tr>\n  </thead>\n  <tbody>\n    <tr>\n      <th>Paid</th>\n      <td>334</td>\n      <td>139</td>\n      <td>41.6%</td>\n    </tr>\n    <tr>\n      <th>Unpaid</th>\n      <td>61,614</td>\n      <td>32,665</td>\n      <td>53.0%</td>\n    </tr>\n  </tbody>\n</table>\n</div>"
     },
     "execution_count": 32,
     "metadata": {},
     "output_type": "execute_result"
    }
   ]
  }
 ]
}